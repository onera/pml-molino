{
 "cells": [
  {
   "cell_type": "code",
   "execution_count": 10,
   "id": "884a80c82257e3d7",
   "metadata": {
    "ExecuteTime": {
     "end_time": "2025-06-26T16:55:45.429872Z",
     "start_time": "2025-06-26T16:55:45.422278Z"
    }
   },
   "outputs": [],
   "source": [
    "from pathlib import Path\n",
    "from traitlets import All\n",
    "from ipyvuetify import Container, Btn, Row, TextField, Divider, Form, ProgressLinear, Icon, Spacer\n",
    "from ipyvuetify import FileInput\n",
    "from ipywidgets import Output, jslink\n",
    "from IPython.display import Markdown\n",
    "\n",
    "from molino import prepare_transactions_db\n",
    "from molino.importers import alf, pml\n",
    "from molino.transactions import transactions_db, Classification\n"
   ]
  },
  {
   "cell_type": "code",
   "execution_count": 2,
   "id": "38859a00d1b483f8",
   "metadata": {
    "ExecuteTime": {
     "end_time": "2025-06-26T13:54:34.176379Z",
     "start_time": "2025-06-26T13:54:34.169518Z"
    }
   },
   "outputs": [],
   "source": [
    "def import_trace_in_db(trace: str | Path, database: str | Path):\n",
    "    \"\"\"Import observation trace in database.\"\"\"\n",
    "    # TODO Test if trace has already been processed in DB (detect if import complete or partial?)\n",
    "    # TODO If DB exists should be sqlite DB\n",
    "    # TODO Infer trace type from extension (observation or pml)\n",
    "    # TODO Advance progress from this function\n",
    "    # TODO Remove chunking from ALF importer and perform it here\n",
    "    if isinstance(trace, str):\n",
    "        pattern = Path(trace)\n",
    "        traces = list(pattern.parent.glob(pattern.name))\n",
    "    elif isinstance(database, Path):\n",
    "        traces = [trace]\n",
    "    else:\n",
    "        raise ValueError(f\"Unsupported trace type '{type(trace)}'\")\n",
    "    database = Path(database)\n",
    "    if len(traces) == 0:\n",
    "        raise FileNotFoundError(f\"No trace matching '{trace}' found\")\n",
    "    if any(not t.exists() for t in traces):\n",
    "        raise FileNotFoundError(f\"File {trace} does not exist\")\n",
    "    if database.exists() and not database.is_file():\n",
    "        raise FileExistsError(f\"{database} already exists but is not a file\")\n",
    "    prepare_transactions_db(str(database))\n",
    "    alf.load_observations(*traces)\n",
    "\n",
    "def import_pml_in_db(trace: str | Path, database: str | Path):\n",
    "    \"\"\"Import PML classification trace in database.\"\"\"\n",
    "    if isinstance(trace, str):\n",
    "        pattern = Path(trace)\n",
    "        traces = list(pattern.parent.glob(pattern.name))\n",
    "    elif isinstance(database, Path):\n",
    "        traces = [trace]\n",
    "    else:\n",
    "        raise ValueError(f\"Unsupported trace type '{type(trace)}'\")\n",
    "    database = Path(database)\n",
    "    if len(traces) == 0:\n",
    "        raise FileNotFoundError(f\"No trace matching '{trace}' found\")\n",
    "    if any(not t.exists() for t in traces):\n",
    "        raise FileNotFoundError(f\"File {traces} do not exist\")\n",
    "    if database.exists() and not database.is_file():\n",
    "        raise FileExistsError(f\"{database} already exists but is not a file\")\n",
    "    prepare_transactions_db(str(database))\n",
    "    pml.load_pml_classifications(*traces, create_missing=False, batch_size=2048)\n"
   ]
  },
  {
   "cell_type": "markdown",
   "id": "e6baccd1d9fda8fd",
   "metadata": {},
   "source": [
    "# Import observations\n",
    "\n",
    "The following form lets you import an observation trace, in the `.alf` file format, into a Molino database.\n",
    "Provide the path to a database file, the path to a trace file, and click the import button.\n",
    "The importer does support `bz2`-compressed traces. The database will be created if required.\n",
    "Note that in binder, a sample trace is accessible at : `../../../samples/riscv/obs/fu740_c1_batch0-no_locking.txt.bz2`.\n"
   ]
  },
  {
   "cell_type": "code",
   "execution_count": 3,
   "id": "5dc45e2b0e7922a",
   "metadata": {
    "ExecuteTime": {
     "end_time": "2025-06-26T13:54:34.210454Z",
     "start_time": "2025-06-26T13:54:34.196698Z"
    }
   },
   "outputs": [
    {
     "data": {
      "application/vnd.jupyter.widget-view+json": {
       "model_id": "495ac5b727d7437491ab02102af50531",
       "version_major": 2,
       "version_minor": 0
      },
      "text/plain": [
       "Form(children=[Container(children=[Row(children=[TextField(clearable=True, label='Path to database file', layo…"
      ]
     },
     "execution_count": 3,
     "metadata": {},
     "output_type": "execute_result"
    }
   ],
   "source": [
    "obs_console = Output()\n",
    "\n",
    "obs_db_fs = TextField(\n",
    "    clearable=True,\n",
    "    label=\"Path to database file\",\n",
    "    prepend_icon=\"mdi-database\",\n",
    "    v_model=\"\",\n",
    ")\n",
    "\n",
    "observation_trace_fs = TextField(\n",
    "    clearable=True,\n",
    "    label=\"Path to trace file\",\n",
    "    prepend_icon=\"mdi-file-outline\",\n",
    "    v_model=\"\",\n",
    ")\n",
    "\n",
    "obs_import_btn = Btn(\n",
    "    children=[\"Import\"]\n",
    ")\n",
    "\n",
    "def do_obs_import(widget, event, data):\n",
    "    obs_console.clear_output()\n",
    "    with obs_console:\n",
    "        obs_import_btn.loading = True\n",
    "        try:\n",
    "            import_trace_in_db(observation_trace_fs.v_model, obs_db_fs.v_model)\n",
    "        finally:\n",
    "            obs_import_btn.loading = False\n",
    "\n",
    "obs_import_btn.on_event(\"click\", do_obs_import)\n",
    "\n",
    "obs_import_form = Form(\n",
    "    children=[\n",
    "        Container(\n",
    "            children=[\n",
    "                Row(children=[obs_db_fs]),\n",
    "                Row(children=[observation_trace_fs]),\n",
    "                Row(children=[obs_import_btn]),\n",
    "                Row(children=[obs_console]),\n",
    "            ]\n",
    "        ),\n",
    "    ]\n",
    ")\n",
    "\n",
    "\n",
    "obs_import_form\n",
    "\n"
   ]
  },
  {
   "cell_type": "markdown",
   "id": "353509f2a7c8c881",
   "metadata": {},
   "source": [
    "# Import PML classifications\n",
    "\n",
    "The following form lets you import a PML classification trace, as a `.txt` file, into a Molino database.\n",
    "Provide the path to the database file, the path to the classification file, and click the import button.\n",
    "The database will be created if required."
   ]
  },
  {
   "cell_type": "code",
   "execution_count": 15,
   "id": "e84c60dc7bd1cc76",
   "metadata": {
    "ExecuteTime": {
     "end_time": "2025-06-26T17:30:03.212525Z",
     "start_time": "2025-06-26T17:30:03.153470Z"
    }
   },
   "outputs": [
    {
     "data": {
      "application/vnd.jupyter.widget-view+json": {
       "model_id": "6df05bacbaca46fbba6eb960f267e57f",
       "version_major": 2,
       "version_minor": 0
      },
      "text/plain": [
       "Form(children=[Container(children=[Row(children=[TextField(clearable=True, label='Path to database file', layo…"
      ]
     },
     "execution_count": 15,
     "metadata": {},
     "output_type": "execute_result"
    }
   ],
   "source": [
    "pml_console = Output()\n",
    "\n",
    "pml_db_fs = TextField(\n",
    "    clearable=True,\n",
    "    label=\"Path to database file\",\n",
    "    prepend_icon=\"mdi-database\",\n",
    "    v_model=\"\",\n",
    ")\n",
    "\n",
    "pml_trace_fs = TextField(\n",
    "    clearable=True,\n",
    "    label=\"Path to trace file\",\n",
    "    prepend_icon=\"mdi-file-outline\",\n",
    "    v_model=\"\",\n",
    ")\n",
    "\n",
    "pml_import_btn = Btn(\n",
    "    children=[\"Import\"]\n",
    ")\n",
    "\n",
    "pml_purge_btn = Btn(\n",
    "    children=[\n",
    "        Icon(\n",
    "            dark=True,\n",
    "            children=\"mdi-skull\",\n",
    "        ),\n",
    "        \"Purge classifications\",\n",
    "    ]\n",
    ")\n",
    "\n",
    "\n",
    "def do_pml_import(widget, event, data):\n",
    "    pml_console.clear_output()\n",
    "    with pml_console :\n",
    "        pml_import_btn.loading = True\n",
    "        try:\n",
    "            import_pml_in_db(pml_trace_fs.v_model, pml_db_fs.v_model)\n",
    "        finally:\n",
    "            pml_import_btn.loading = False\n",
    "\n",
    "def do_purge_classifications(widget, event, data):\n",
    "    pml_console.clear_output()\n",
    "    with pml_console :\n",
    "        widget.loading = True\n",
    "        try:\n",
    "            database = Path(pml_db_fs.v_model)\n",
    "            if database.exists() and not database.is_file():\n",
    "                raise FileExistsError(f\"{database} already exists but is not a file\")\n",
    "            prepare_transactions_db(str(database))\n",
    "            if transactions_db.is_connection_usable():\n",
    "                q = Classification.delete()\n",
    "                q.execute()\n",
    "        finally:\n",
    "            widget.loading = False\n",
    "\n",
    "pml_import_btn.on_event(\"click\", do_pml_import)\n",
    "pml_purge_btn.on_event(\"click\", do_purge_classifications)\n",
    "\n",
    "pml_import_form = Form(\n",
    "    children=[\n",
    "        Container(\n",
    "            children=[\n",
    "                Row(children=[pml_db_fs]),\n",
    "                Row(children=[pml_trace_fs]),\n",
    "                Row(children=[pml_import_btn, Spacer(), pml_purge_btn]),\n",
    "                Row(children=[pml_console]),\n",
    "            ]\n",
    "        ),\n",
    "    ]\n",
    ")\n",
    "\n",
    "pml_import_form"
   ]
  }
 ],
 "metadata": {
  "kernelspec": {
   "display_name": "Python 3 (ipykernel)",
   "language": "python",
   "name": "python3"
  },
  "language_info": {
   "codemirror_mode": {
    "name": "ipython",
    "version": 3
   },
   "file_extension": ".py",
   "mimetype": "text/x-python",
   "name": "python",
   "nbconvert_exporter": "python",
   "pygments_lexer": "ipython3",
   "version": "3.11.2"
  }
 },
 "nbformat": 4,
 "nbformat_minor": 5
}
