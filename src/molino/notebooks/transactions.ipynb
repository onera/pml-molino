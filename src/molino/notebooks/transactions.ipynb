{
 "cells": [
  {
   "cell_type": "code",
   "id": "initial_id",
   "metadata": {
    "collapsed": true,
    "jupyter": {
     "outputs_hidden": true
    },
    "ExecuteTime": {
     "end_time": "2025-06-29T12:05:59.431976Z",
     "start_time": "2025-06-29T12:05:59.376201Z"
    }
   },
   "source": [
    "%load_ext autoreload\n",
    "%autoreload 2"
   ],
   "outputs": [],
   "execution_count": 1
  },
  {
   "cell_type": "code",
   "id": "ba4fdb635f8e4d5c",
   "metadata": {
    "ExecuteTime": {
     "end_time": "2025-06-29T12:06:00.535813Z",
     "start_time": "2025-06-29T12:05:59.632285Z"
    }
   },
   "source": [
    "import ipyvuetify as v\n",
    "import dataclasses\n",
    "from typing import Any\n",
    "from ipywidgets import Output\n",
    "from pathlib import Path\n",
    "from molino import prepare_transactions_db\n",
    "from molino.transactions import ViewGuiTransaction, transactions_db, MultiTransaction, MultiToTransactions, Observation\n",
    "from molino.ajax import fetch_transactions\n",
    "from peewee import fn\n",
    "import math\n",
    "import traitlets\n",
    "import numpy as np"
   ],
   "outputs": [],
   "execution_count": 2
  },
  {
   "cell_type": "code",
   "id": "9b518e318891e42a",
   "metadata": {
    "ExecuteTime": {
     "end_time": "2025-06-29T12:06:00.572326Z",
     "start_time": "2025-06-29T12:06:00.553234Z"
    }
   },
   "source": [
    "stdout = Output()\n",
    "stdout_container = v.Row(class_=\"d-none\", children=[stdout])  # FIXME This is nasty\n",
    "\n",
    "dbg_toggle = v.Switch(\n",
    "    label=\"Debug me senpai\",\n",
    "    v_model=False,\n",
    ")\n",
    "\n",
    "\n",
    "def toggle_stdout(widget, event, data):\n",
    "    if data:\n",
    "        stdout_container.class_list.remove(\"d-none\")\n",
    "    else:\n",
    "        stdout_container.class_list.add(\"d-none\")\n",
    "\n",
    "\n",
    "dbg_toggle.on_event(\"change\", toggle_stdout)\n",
    "\n",
    "c = v.Container(\n",
    "    children=[\n",
    "        v.Row(children=[dbg_toggle]),\n",
    "        stdout_container,\n",
    "    ],\n",
    ")\n",
    "c"
   ],
   "outputs": [
    {
     "data": {
      "text/plain": [
       "Container(children=[Row(children=[Switch(label='Debug me senpai', layout=None, v_model=False)], layout=None), …"
      ],
      "application/vnd.jupyter.widget-view+json": {
       "version_major": 2,
       "version_minor": 0,
       "model_id": "fb4e793ccbc247e8ba1f2fb29b21cf43"
      }
     },
     "execution_count": 3,
     "metadata": {},
     "output_type": "execute_result"
    }
   ],
   "execution_count": 3
  },
  {
   "cell_type": "code",
   "id": "efcae6c25835e184",
   "metadata": {
    "ExecuteTime": {
     "end_time": "2025-06-29T12:06:00.790842Z",
     "start_time": "2025-06-29T12:06:00.756361Z"
    }
   },
   "source": [
    "database_field = v.TextField(\n",
    "    clearable=True,\n",
    "    label=\"Path to database file\",\n",
    "    prepend_icon=\"mdi-database\",\n",
    "    v_model=\"\",\n",
    ")\n",
    "\n",
    "database_field"
   ],
   "outputs": [
    {
     "data": {
      "text/plain": [
       "TextField(clearable=True, label='Path to database file', layout=None, prepend_icon='mdi-database', v_model='')"
      ],
      "application/vnd.jupyter.widget-view+json": {
       "version_major": 2,
       "version_minor": 0,
       "model_id": "82bb85e852154f5fbdb9e0cdad0e676f"
      }
     },
     "execution_count": 4,
     "metadata": {},
     "output_type": "execute_result"
    }
   ],
   "execution_count": 4
  },
  {
   "cell_type": "code",
   "id": "f2cf41abe1bf698c",
   "metadata": {
    "ExecuteTime": {
     "end_time": "2025-06-29T12:06:00.944771Z",
     "start_time": "2025-06-29T12:06:00.868373Z"
    }
   },
   "source": [
    "class TransactionTable(v.VuetifyTemplate):\n",
    "    template_file = \"transactions-template.vue\"\n",
    "\n",
    "    headers = traitlets.List(traitlets.Dict()).tag(sync=True)\n",
    "    transactions = traitlets.List(traitlets.Dict(), default_value=[]).tag(sync=True)\n",
    "    transactions_count = traitlets.Integer(default_value=0).tag(sync=True)\n",
    "    options = traitlets.Dict(default_value={}).tag(sync=True)\n",
    "    filters = traitlets.Dict(default_value={}).tag(sync=True)\n",
    "    penalty_threshold = traitlets.Float(default_value=0.05).tag(sync=True)\n",
    "    penalty_range = traitlets.Tuple().tag(sync=True)\n",
    "    penalty_mode = traitlets.Int(default_value=0).tag(sync=True)\n",
    "    watermark_range = traitlets.Tuple().tag(sync=True)\n",
    "    size_range = traitlets.Tuple().tag(sync=True)\n",
    "\n",
    "    #  Execution time histograms\n",
    "    hist_dialog = traitlets.Bool(default_value=False).tag(sync=True)\n",
    "    hist_item = traitlets.Dict(default_value={}).tag(sync=True)\n",
    "    hist_iso = traitlets.List(default_value=[]).tag(sync=True)\n",
    "    hist_itf = traitlets.List(default_value=[]).tag(sync=True)\n",
    "    hist_labels = traitlets.List(default_value=[]).tag(sync=True)\n",
    "\n",
    "    @traitlets.default(\"headers\")\n",
    "    def _default_headers(self):\n",
    "        return [\n",
    "            {\"text\": \"Name\", \"value\": \"mtr\"},\n",
    "            {\"text\": \"Victim\", \"value\": \"tr\"},\n",
    "            {\"text\": \"Size\", \"value\": \"size\", \"align\": \"right\"},\n",
    "            {\"text\": \"Classification (PML)\", \"value\": \"interfering\"},\n",
    "            {\"text\": \"HWM\", \"value\": \"hwm\", \"align\": \"right\"},\n",
    "            {\"text\": \"LWM\", \"value\": \"lwm\", \"align\": \"right\"},\n",
    "            {\"text\": \"Isolation (HWM)\", \"value\": \"ref_hwm\", \"align\": \"right\"},\n",
    "            {\"text\": \"Penalty (HWM)\", \"value\": \"penalty_hwm\", \"align\": \"right\"},\n",
    "            {\"text\": \"Isolation (LWM)\", \"value\": \"ref_lwm\", \"align\": \"right\"},\n",
    "            {\"text\": \"Penalty (LWM)\", \"value\": \"penalty_lwm\", \"align\": \"right\"},\n",
    "            {\"text\": \"Actions\", \"value\": \"actions\"},\n",
    "        ]\n",
    "\n",
    "    def is_database_ready(self) -> bool:\n",
    "        \"\"\"Check if database connection is ready.\"\"\"\n",
    "        return transactions_db.is_connection_usable()\n",
    "\n",
    "    @traitlets.default(\"size_range\")\n",
    "    def _default_size_range(self):\n",
    "        if not self.is_database_ready():\n",
    "            return tuple()\n",
    "        r = MultiToTransactions.select(fn.MIN(MultiToTransactions.arity),\n",
    "                                       fn.MAX(MultiToTransactions.arity)).scalar(as_tuple=True)\n",
    "        return int(math.floor(r[0])), int(math.ceil(r[1]))\n",
    "\n",
    "    @traitlets.default(\"penalty_range\")\n",
    "    def _default_penalty_range(self):\n",
    "        if not self.is_database_ready():\n",
    "            return tuple()\n",
    "        r = ViewGuiTransaction.select(fn.MIN(ViewGuiTransaction.penalty_hwm),\n",
    "                                      fn.MAX(ViewGuiTransaction.penalty_hwm)).scalar(as_tuple=True)\n",
    "        return int(math.floor(r[0])), int(math.ceil(r[1]))\n",
    "\n",
    "    @traitlets.default(\"watermark_range\")\n",
    "    def _default_watermark_range(self):\n",
    "        if not self.is_database_ready():\n",
    "            return tuple()\n",
    "        r = ViewGuiTransaction.select(fn.MIN(ViewGuiTransaction.hwm), fn.MAX(ViewGuiTransaction.lwm)).scalar(\n",
    "            as_tuple=True)\n",
    "        return int(math.floor(r[0])), int(math.ceil(r[1]))\n",
    "\n",
    "    @traitlets.observe(\"options\")\n",
    "    def update_options(self, changes):\n",
    "        data = changes[\"new\"]\n",
    "        self.options = data\n",
    "        self.refresh_contents()\n",
    "\n",
    "    def refresh_defaults(self):\n",
    "        self.watermark_range = self._default_watermark_range()\n",
    "        self.penalty_range = self._default_penalty_range()\n",
    "        self.size_range = self._default_size_range()\n",
    "\n",
    "    def refresh_contents(self):\n",
    "        if not self.is_database_ready():\n",
    "            return\n",
    "        with stdout:\n",
    "            # Cleanup classification values\n",
    "            if \"interfering\" in self.filters:\n",
    "                def _classif_to_filter(v: str):\n",
    "                    match v:\n",
    "                        case \"True\" | \"1\":\n",
    "                            return \"1\"\n",
    "                        case \"False\" | \"0\":\n",
    "                            return \"0\"\n",
    "                        case \"None\" | \"\":\n",
    "                            return \"\"\n",
    "                    return None\n",
    "\n",
    "                self.filters[\"interfering\"] = [_classif_to_filter(v) for v in self.filters[\"interfering\"]]\n",
    "            # Format filters\n",
    "            filters = [(k, v) for (k, f) in self.filters.items() for v in f if len(f) > 0]\n",
    "            if len(filters) == 0:\n",
    "                filters = None\n",
    "            #\n",
    "            print(\"Options:\", self.options)\n",
    "            print(\"Filters:\", self.filters, \"Actual:\", filters)\n",
    "            tr_count, trs = fetch_transactions(\n",
    "                page=self.options[\"page\"],\n",
    "                page_size=self.options[\"itemsPerPage\"],\n",
    "                sort_by=self.options[\"sortBy\"][0] if len(self.options[\"sortBy\"]) else \"id\",\n",
    "                filters=filters,\n",
    "                descending=self.options[\"sortDesc\"][0] if len(self.options[\"sortDesc\"]) else False,\n",
    "                logger=None,\n",
    "            )\n",
    "            # Update visible transactions\n",
    "            updated_transactions = [dataclasses.asdict(t) for t in trs]\n",
    "            # FIX Names not in expected format\n",
    "            for t in updated_transactions:\n",
    "                t[\"mtr_name\"] = t[\"mtr\"]\n",
    "                t[\"mtr\"] = t[\"mtr\"].split(\"||\")\n",
    "                t[\"penalty_hwm\"] = (\n",
    "                        (t[\"timing_isolation\"][\"hwm\"][\"value\"] - t[\"timing\"][\"lwm\"][\"value\"]) /\n",
    "                        t[\"timing_isolation\"][\"hwm\"][\"value\"]\n",
    "                )\n",
    "                t[\"penalty_lwm\"] = (\n",
    "                        (t[\"timing_isolation\"][\"lwm\"][\"value\"] - t[\"timing\"][\"hwm\"][\"value\"]) /\n",
    "                        t[\"timing_isolation\"][\"lwm\"][\"value\"]\n",
    "                )\n",
    "            self.transactions = updated_transactions\n",
    "            self.transactions_count = tr_count\n",
    "\n",
    "    def vue_update_filter(self, change: tuple[str, Any]):\n",
    "        with stdout:\n",
    "            field, val = change\n",
    "            print(\"Update filter:\", field, val)\n",
    "            if val is None or len(val) == 0:\n",
    "                updated_filters = dict(self.filters)\n",
    "                del updated_filters[field]\n",
    "                self.filters = updated_filters\n",
    "            else:\n",
    "                updated_filters = self.filters\n",
    "                updated_filters[field] = val if isinstance(val, list) else [val]\n",
    "                self.filters = updated_filters\n",
    "            self.refresh_contents()\n",
    "\n",
    "    def vue_update_timing_histogram(self, change: dict):\n",
    "        with stdout:\n",
    "            print(\"Update timing histogram:\", change)\n",
    "            self.hist_dialog = True\n",
    "            self.hist_item = change\n",
    "            # Retrieve multi-transaction id in isolation\n",
    "            iso_mtri = MultiToTransactions.select(MultiToTransactions.multi_transaction).where(\n",
    "                (MultiToTransactions.transaction == change[\"aid\"]) &\n",
    "                (MultiToTransactions.arity == 1)\n",
    "            ).scalar()\n",
    "            # Collect and format observations\n",
    "            itf = list(Observation.select(Observation.value).where(\n",
    "                (Observation.transaction == change[\"aid\"]) & (\n",
    "                            Observation.multi_transaction == change[\"mtri\"])).tuples().execute())\n",
    "            iso = list(Observation.select(Observation.value).where(\n",
    "                (Observation.transaction == change[\"aid\"]) & (Observation.multi_transaction == iso_mtri)).tuples().execute())\n",
    "            itf = [i[0] for i in itf]\n",
    "            iso = [i[0] for i in iso]\n",
    "            #\n",
    "            BINS_COUNT = 10\n",
    "            RANGE = (min(itf + iso), max(itf + iso))\n",
    "            # Move observations into bins\n",
    "            hist_itf, edges = np.histogram(itf, bins=BINS_COUNT, range=RANGE, density=True)\n",
    "            hist_iso, _ = np.histogram(iso, bins=BINS_COUNT, range=RANGE, density=True)\n",
    "            # Cast to Python float (for ipyvuetify compatibility)\n",
    "            self.hist_itf = [n.item() for n in hist_itf]\n",
    "            self.hist_iso = [n.item() for n in hist_iso]\n",
    "            self.hist_labels = [f\"{round(edges[i].item(), 2)}\" for i, _ in enumerate(edges[:-1])]\n",
    "            # self.hist_labels = [f\"[{round(edges[i].item(), 2)}:{round(edges[i + 1].item(), 2)})\" for i, _ in\n",
    "            #                     enumerate(edges[:-1])]\n",
    "\n",
    "\n",
    "t = TransactionTable()\n",
    "\n",
    "\n",
    "def update_database(widget, event, data):\n",
    "    database_path = Path(data)\n",
    "    if not database_path.exists():\n",
    "        database_field.error = True\n",
    "        database_field.error_messages = \"Database does not exists\"\n",
    "    else:\n",
    "        database_field.error = False\n",
    "        database_field.error_messages = []\n",
    "        database_field.loading = True\n",
    "        try:\n",
    "            prepare_transactions_db(database_path)\n",
    "            t.refresh_contents()\n",
    "            t.refresh_defaults()\n",
    "        finally:\n",
    "            database_field.loading = False\n",
    "\n",
    "\n",
    "database_field.on_event(\"change\", update_database)\n",
    "\n",
    "c = v.Container(\n",
    "    children=[\n",
    "        v.Row(children=[t]),\n",
    "    ]\n",
    ")\n",
    "c\n",
    "\n"
   ],
   "outputs": [
    {
     "data": {
      "text/plain": [
       "Container(children=[Row(children=[TransactionTable(events=['update_filter', 'update_timing_histogram'], header…"
      ],
      "application/vnd.jupyter.widget-view+json": {
       "version_major": 2,
       "version_minor": 0,
       "model_id": "0cc1a8ebb7424985bd6328e590b5b01c"
      }
     },
     "execution_count": 5,
     "metadata": {},
     "output_type": "execute_result"
    }
   ],
   "execution_count": 5
  },
  {
   "cell_type": "code",
   "id": "703893aa074b769a",
   "metadata": {
    "ExecuteTime": {
     "end_time": "2025-06-29T12:06:00.992545Z",
     "start_time": "2025-06-29T12:06:00.988015Z"
    }
   },
   "source": [],
   "outputs": [],
   "execution_count": null
  }
 ],
 "metadata": {
  "kernelspec": {
   "display_name": "Python 3 (ipykernel)",
   "language": "python",
   "name": "python3"
  },
  "language_info": {
   "codemirror_mode": {
    "name": "ipython",
    "version": 3
   },
   "file_extension": ".py",
   "mimetype": "text/x-python",
   "name": "python",
   "nbconvert_exporter": "python",
   "pygments_lexer": "ipython3",
   "version": "3.11.2"
  }
 },
 "nbformat": 4,
 "nbformat_minor": 5
}
